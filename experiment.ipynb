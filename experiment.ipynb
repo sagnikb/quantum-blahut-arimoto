{
 "cells": [
  {
   "cell_type": "code",
   "execution_count": 6,
   "metadata": {},
   "outputs": [],
   "source": [
    "from qiskit.quantum_info import Kraus\n",
    "import numpy as np\n",
    "import quantum_blahut_arimoto as qba"
   ]
  },
  {
   "cell_type": "code",
   "execution_count": 10,
   "metadata": {},
   "outputs": [],
   "source": [
    "c0 = np.sqrt(1/3)\n",
    "c1 = np.sqrt(2/3)\n",
    "n = 2\n",
    "zbasis = qba.Channel.create_basis(n)\n",
    "choi = np.zeros((np.square(n), np.square(n))).astype(np.complex128)"
   ]
  },
  {
   "cell_type": "code",
   "execution_count": 11,
   "metadata": {},
   "outputs": [],
   "source": [
    "channel_1 = Kraus([c0*np.eye(2), c1*np.array([[1,0],[0,-1]])])"
   ]
  },
  {
   "cell_type": "code",
   "execution_count": 12,
   "metadata": {},
   "outputs": [],
   "source": [
    "for j in range(n):\n",
    "            for k in range(n):\n",
    "                for l in range(n):\n",
    "                    for m in range(n):\n",
    "                        choi += (np.trace(\n",
    "                            channel_1.data[m].conj().T\n",
    "                            @ channel_1.data[l]\n",
    "                            @ np.outer(zbasis[j], zbasis[k])\n",
    "                            )\n",
    "                            * np.kron(\n",
    "                                np.outer(zbasis[l], zbasis[m]),\n",
    "                                np.outer(zbasis[j], zbasis[k])\n",
    "                            )\n",
    "                            )"
   ]
  },
  {
   "cell_type": "code",
   "execution_count": 13,
   "metadata": {},
   "outputs": [
    {
     "name": "stdout",
     "output_type": "stream",
     "text": [
      "[[ 0.33333333+0.j  0.        +0.j  0.47140452+0.j  0.        +0.j]\n",
      " [ 0.        +0.j  0.33333333+0.j  0.        +0.j -0.47140452+0.j]\n",
      " [ 0.47140452+0.j  0.        +0.j  0.66666667+0.j  0.        +0.j]\n",
      " [ 0.        +0.j -0.47140452+0.j  0.        +0.j  0.66666667+0.j]]\n"
     ]
    }
   ],
   "source": [
    "print(choi)"
   ]
  },
  {
   "cell_type": "code",
   "execution_count": 21,
   "metadata": {},
   "outputs": [
    {
     "name": "stdout",
     "output_type": "stream",
     "text": [
      "2\n"
     ]
    }
   ],
   "source": [
    "print(len(channel_1.data[0])) "
   ]
  }
 ],
 "metadata": {
  "interpreter": {
   "hash": "290b696cb47cac0e385380394eae6fcd7a98d3bcfeac70f2e2bdbdea6ce062f5"
  },
  "kernelspec": {
   "display_name": "Python 3.8.11 64-bit ('myenv': conda)",
   "language": "python",
   "name": "python3"
  },
  "language_info": {
   "codemirror_mode": {
    "name": "ipython",
    "version": 3
   },
   "file_extension": ".py",
   "mimetype": "text/x-python",
   "name": "python",
   "nbconvert_exporter": "python",
   "pygments_lexer": "ipython3",
   "version": "3.8.11"
  },
  "orig_nbformat": 4
 },
 "nbformat": 4,
 "nbformat_minor": 2
}
